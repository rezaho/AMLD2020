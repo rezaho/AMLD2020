{
 "cells": [
  {
   "cell_type": "markdown",
   "metadata": {},
   "source": [
    "Google Colab Setup\n",
    "---\n",
    "\n",
    "Make sure to select GPU in Runtime > Change runtime type > Hardware accelerator"
   ]
  },
  {
   "cell_type": "code",
   "execution_count": null,
   "metadata": {},
   "outputs": [],
   "source": [
    "#@title << Setup Google Colab by running this cell {display-mode: \"form\"}\n",
    "import sys\n",
    "if 'google.colab' in sys.modules:\n",
    "    # Clone GitHub repository\n",
    "    !git clone https://github.com/pacm/rl-workshop.git\n",
    "        \n",
    "    # Copy files required to run the code\n",
    "    !cp -r \"rl-workshop/agents\" \"rl-workshop/env\" \"rl-workshop/helpers\" .\n",
    "    \n",
    "    # Install packages via pip\n",
    "    !pip install -r \"rl-workshop/colab-requirements.txt\"\n",
    "    \n",
    "    # Restart Runtime\n",
    "    import os\n",
    "    os.kill(os.getpid(), 9)"
   ]
  },
  {
   "cell_type": "markdown",
   "metadata": {},
   "source": [
    "PER and curiosity\n",
    "---"
   ]
  },
  {
   "cell_type": "code",
   "execution_count": null,
   "metadata": {},
   "outputs": [],
   "source": [
    "%load_ext autoreload\n",
    "%autoreload 2"
   ]
  },
  {
   "cell_type": "code",
   "execution_count": null,
   "metadata": {},
   "outputs": [],
   "source": [
    "%matplotlib inline\n",
    "%run env/env.py\n",
    "%run helpers/rl_helpers.py"
   ]
  },
  {
   "cell_type": "code",
   "execution_count": null,
   "metadata": {},
   "outputs": [],
   "source": [
    "import datetime\n",
    "from agents.dqn import DQNAgent, ConvQNetworkFactory\n",
    "from agents.random import RandomAgent\n",
    "from agents.logging import TensorBoardLogger, NoLogger\n",
    "from agents.curiosity import CuriosityDQNAgent"
   ]
  },
  {
   "cell_type": "code",
   "execution_count": null,
   "metadata": {},
   "outputs": [],
   "source": [
    "env = WindowedGridView(DeliveryDrones(), radius=3)\n",
    "env.env_params.update({'n_drones': 11, 'pickup_reward': 0, 'discharge': 1, 'rgb_render_rescale': 2.0})"
   ]
  },
  {
   "cell_type": "code",
   "execution_count": null,
   "metadata": {},
   "outputs": [],
   "source": [
    "\"\"\"DQN with intrinsic curiosity module\"\"\"\n",
    "dqn_factory = ConvQNetworkFactory(env, conv_layers=[\n",
    "        {'out_channels': 32, 'kernel_size': 3, 'stride': 2, 'padding': 1},\n",
    "        {'out_channels': 32, 'kernel_size': 3, 'stride': 1, 'padding': 1},\n",
    "        {'out_channels': 32, 'kernel_size': 3, 'stride': 1, 'padding': 1},\n",
    "        {'out_channels': 32, 'kernel_size': 3, 'stride': 1, 'padding': 1},\n",
    "    ], dense_layers=[256])\n",
    "\n",
    "curiosity_logger = TensorBoardLogger(os.path.join('logs', 'curiosity'), datetime.datetime.now().strftime('%Y-%m-%d_%H-%M-%S'))\n",
    "dqn_logger = TensorBoardLogger(os.path.join('logs', 'dqn'), datetime.datetime.now().strftime('%Y-%m-%d_%H-%M-%S'))\n",
    "# curisoiry_logger = NoLogger()\n",
    "# dqn_logger = NoLogger()\n",
    "\n",
    "curiosity_agent = CuriosityDQNAgent(env, dqn_factory, gamma=0.95, epsilon_start=1, epsilon_decay=0.99,\n",
    "                                    epsilon_end=0.01, memory_size=10000, batch_size=64,\n",
    "                                    target_update_interval=500, eta=0.01, beta=0.2, lmbda=0.1,\n",
    "                                    logger=curiosity_logger)\n",
    "\n",
    "dqn_agent = DQNAgent(env, dqn_factory, gamma=0.95, epsilon_start=1, epsilon_decay=0.99, epsilon_end=0.01, \n",
    "                     memory_size=10000, batch_size=64, target_update_interval=500, logger=dqn_logger)\n",
    "\n",
    "# Reset environment\n",
    "env.reset()\n",
    "\n",
    "# Setup random opponents\n",
    "agents = {drone.index: RandomAgent(env) for drone in env.drones}\n",
    "agents[0] = curiosity_agent\n",
    "agents[1] = dqn_agent\n",
    "\n",
    "# Create trainer\n",
    "trainer = MultiAgentTrainer(env, agents, reset_agents=True, seed=0)\n",
    "\n",
    "trainer.train(10000)\n",
    "plot_rolling_rewards(trainer.rewards_log, drones_labels={0: 'Curisoity-DQN', 1: 'DQN'})"
   ]
  },
  {
   "cell_type": "code",
   "execution_count": null,
   "metadata": {},
   "outputs": [],
   "source": [
    "rewards_log = test_agents(env, agents, n_steps=1000)\n",
    "plot_cumulative_rewards(rewards_log, drones_labels={0: 'Curisoity-DQN', 1: 'DQN'})"
   ]
  },
  {
   "cell_type": "code",
   "execution_count": null,
   "metadata": {},
   "outputs": [],
   "source": [
    "import os\n",
    "path = os.path.join('videos', 'curisoity.mp4')\n",
    "render_video(env, agents, path, n_steps=60, fps=1, seed=None)"
   ]
  },
  {
   "cell_type": "code",
   "execution_count": null,
   "metadata": {},
   "outputs": [],
   "source": [
    "import os\n",
    "\n",
    "curiosity_agent.save(os.path.join('agents', 'curiosity_agent.pt'))"
   ]
  }
 ],
 "metadata": {
  "kernelspec": {
   "display_name": "Python 3",
   "language": "python",
   "name": "python3"
  },
  "language_info": {
   "codemirror_mode": {
    "name": "ipython",
    "version": 3
   },
   "file_extension": ".py",
   "mimetype": "text/x-python",
   "name": "python",
   "nbconvert_exporter": "python",
   "pygments_lexer": "ipython3",
   "version": "3.6.8"
  },
  "pycharm": {
   "stem_cell": {
    "cell_type": "raw",
    "metadata": {
     "collapsed": false
    },
    "source": []
   }
  }
 },
 "nbformat": 4,
 "nbformat_minor": 4
}
